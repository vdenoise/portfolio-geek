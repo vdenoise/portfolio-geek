{
 "cells": [
  {
   "cell_type": "raw",
   "metadata": {
    "vscode": {
     "languageId": "raw"
    }
   },
   "source": [
    "---\n",
    "title: \"10 powerful quotes about data\"\n",
    "toc: false\n",
    "badges: true\n",
    "page-layout: full\n",
    "comments: false\n",
    "author: Vincent D.\n",
    "categories: [data, quotes, data, coding]\n",
    "---"
   ]
  },
  {
   "cell_type": "markdown",
   "metadata": {},
   "source": [
    "::: {layout-ncol=2}\n",
    "\n",
    ":::{#first-column}\n",
    "\n",
    "> In God we trust. All others must bring data.\n",
    "> -- <cite>W. Edwards Deming</cite>\n",
    "\n",
    "> Data is a precious thing and will last longer than the systems themselves.\n",
    "> -- <cite>Tim Berners-Lee</cite>\n",
    "\n",
    "> Without big data, you are blind and deaf and in the middle of a freeway.\n",
    "> -- <cite>Geoffrey Moore</cite>\n",
    "\n",
    "> The goal is to turn data into information, and information into insight.\n",
    "> -- <cite>Carly Fiorina</cite>\n",
    "\n",
    "> Data is not information, information is not knowledge, knowledge is not understanding, understanding is not wisdom.\n",
    "> -- <cite>Clifford Stoll</cite>\n",
    "\n",
    ":::\n",
    "\n",
    ":::{#second-column}\n",
    "\n",
    "![](/pictures/binary-numbers-data-matrix.jpg)\n",
    "\n",
    ":::\n",
    "\n",
    ":::\n",
    "\n",
    "> Data beats emotions.\n",
    "> -- <cite>Sean Rad</cite>\n",
    "\n",
    "> The world is now awash in data and we can see consumers in a lot clearer ways.\n",
    "> -- <cite>Max Levchin</cite>\n",
    "\n",
    "> Torture the data, and it will confess to anything.\n",
    "> -- <cite>Ronald Coase</cite>\n",
    "\n",
    "> Data are just summaries of thousands of stories—tell a few of those stories to help make the data meaningful.\n",
    "> -- <cite>Chip & Dan Heath</cite>\n",
    "\n",
    "> We are moving slowly into an era where big data is the starting point, not the end.\n",
    "> -- <cite>Pearl Zhu</cite>\n",
    "\n"
   ]
  },
  {
   "cell_type": "markdown",
   "metadata": {},
   "source": []
  }
 ],
 "metadata": {
  "kernelspec": {
   "display_name": "Python 3",
   "language": "python",
   "name": "python3"
  },
  "language_info": {
   "codemirror_mode": {
    "name": "ipython",
    "version": 3
   },
   "file_extension": ".py",
   "mimetype": "text/x-python",
   "name": "python",
   "nbconvert_exporter": "python",
   "pygments_lexer": "ipython3",
   "version": "3.9.0"
  }
 },
 "nbformat": 4,
 "nbformat_minor": 4
}
