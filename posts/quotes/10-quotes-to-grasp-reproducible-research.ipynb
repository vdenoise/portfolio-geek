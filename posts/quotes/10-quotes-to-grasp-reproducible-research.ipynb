{
 "cells": [
  {
   "cell_type": "raw",
   "metadata": {
    "vscode": {
     "languageId": "raw"
    }
   },
   "source": [
    "---\n",
    "title: \"10 Quotes to Grasp Reproducible Research\"\n",
    "toc: false\n",
    "badges: true\n",
    "page-layout: full\n",
    "comments: false\n",
    "draft: true\n",
    "categories: [data, quotes, value, portfolio, inspiration]\n",
    "---"
   ]
  },
  {
   "cell_type": "markdown",
   "metadata": {},
   "source": []
  },
  {
   "cell_type": "markdown",
   "metadata": {},
   "source": [
    "::: {layout-ncol=2}\n",
    "\n",
    ":::{#first-column}\n",
    "\n",
    "> **Small-cap stocks are inherently riskier but provide potentially higher rewards compared to their large-cap counterparts.**\n",
    "> -- <cite>Peter Lynch</cite>\n",
    "\n",
    "::: {.content-visible when-profile=\"website_en\"}\n",
    "\n",
    "Peter Lynch, a renowned investor and author of \"One Up On Wall Street,\" emphasises the risk-reward dynamic of small cap stocks. These companies often have higher growth potential due to their smaller size and emerging market positions. However, this potential comes with increased volatility and risks, making thorough research essential. Investors need to balance their risk tolerance with the potential for substantial returns. Studies suggest that small-cap stocks can outperform large-cap stocks over long periods, but their prices can be more susceptible to market swings. For instance, according to historical data, small-cap stocks have delivered higher returns over extended periods compared to large-cap stocks.\n",
    "\n",
    ":::\n",
    "\n",
    "::: {.content-visible when-profile=\"website_fr\"}\n",
    "\n",
    "Peter Lynch, un investisseur renommé et auteur de \"One Up On Wall Street\", met en évidence la dynamique risque-rendement des actions de petites capitalisations. Ces entreprises ont souvent un potentiel de croissance plus élevé en raison de leur taille plus petite et de leurs positions émergentes sur le marché. Cependant, ce potentiel s'accompagne d'une volatilité et de risques accrus, rendant une recherche approfondie essentielle. Les investisseurs doivent équilibrer leur tolérance au risque avec le potentiel de rendements substantiels. Des études suggèrent que les actions de petites capitalisations peuvent surperformer les actions de grandes capitalisations sur de longues périodes, mais leurs prix peuvent être plus sensibles aux fluctuations du marché. Par exemple, selon des données historiques, les actions de petites capitalisations ont offert des rendements plus élevés sur des périodes prolongées par rapport aux actions de grandes capitalisations.\n",
    "\n",
    ":::\n",
    "\n",
    ":::\n",
    "\n",
    ":::{#second-column}\n",
    "\n",
    "![](/pictures/close-up-led-charts-and-summary-info-for-making-st.jpg)\n",
    "\n",
    ":::\n",
    "\n",
    "::: \n",
    "\n",
    "\n"
   ]
  },
  {
   "cell_type": "markdown",
   "metadata": {},
   "source": [
    "\n",
    "### Conclusion\n",
    "\n",
    "\n"
   ]
  }
 ],
 "metadata": {
  "kernelspec": {
   "display_name": "Python 3",
   "language": "python",
   "name": "python3"
  },
  "language_info": {
   "codemirror_mode": {
    "name": "ipython",
    "version": 3
   },
   "file_extension": ".py",
   "mimetype": "text/x-python",
   "name": "python",
   "nbconvert_exporter": "python",
   "pygments_lexer": "ipython3",
   "version": "3.9.0"
  }
 },
 "nbformat": 4,
 "nbformat_minor": 4
}
