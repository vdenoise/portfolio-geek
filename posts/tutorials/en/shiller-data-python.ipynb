{
  "cells": [
    {
      "cell_type": "raw",
      "metadata": {
        "id": "Q5AK4wrshA19"
      },
      "source": [
        "---\n",
        "title: Analyzing Equity long Term Returns with Python\n",
        "categories: [tutorial, long term investing, en]\n",
        "jupyter: python3\n",
        "execute:\n",
        "    freeze: auto\n",
        "---"
      ]
    },
    {
      "cell_type": "code",
      "execution_count": null,
      "metadata": {
        "id": "g-OpS9k7hA1-"
      },
      "outputs": [],
      "source": [
        "#| echo: false\n",
        "import os\n",
        "import datetime as dt\n",
        "\n",
        "figsize_width = os.getenv(\"FIGSIZE_WIDTH\")\n",
        "if type(figsize_width) == str:\n",
        "    figsize_width = int(figsize_width)\n",
        "else:\n",
        "    figsize_width = 6\n",
        "\n",
        "figsize_height = os.getenv(\"FIGSIZE_HEIGHT\")\n",
        "if type(figsize_height) == str:\n",
        "    figsize_height = int(figsize_height)\n",
        "else:\n",
        "    figsize_height = 4\n",
        "\n",
        "figsize = (figsize_width, figsize_height)\n",
        "mpl_style = os.getenv(\"MPL_STYLE\")\n",
        "\n",
        "if type(mpl_style) != str:\n",
        "    mpl_style = \"pacoty\"\n",
        "\n"
      ]
    },
    {
      "cell_type": "markdown",
      "metadata": {
        "id": "i0ivHNSKhA1_"
      },
      "source": [
        "::: {.content-visible when-profile=\"presentation\"}\n",
        "::: {.notes}\n",
        "### Intro\n",
        "Hello everyone and welcome to this first video of the Portfolio Geek channel. In this video we will look at what long term investing means for Equity investors.\n",
        "Many investors think about stock trades and financial analysis, selecting the best stock based on its value, cash flow dividends, and then looking at entry points, trying to find the best timing to exit and so forth.\n",
        "\n",
        "Note: ideally, bullet points on green screen to make sure it goes as key holding points.\n",
        "\n",
        "### Structure of the 10 minutes\n",
        "What I will aim to do in the next 10 minutes is to provide you with some perspective on why long term investing makes sense, and how it might actually provide very good returns as long as the investor is sufficiently patient about it.\n",
        "To do so, I will look at 2 online databases with free access to everyone:\n",
        "* The first one is a famous one, launched by Robert Shiller, extremely well known in the finance and academic community. It provides everyone with the long term returns of the S&P 500, ie the reference of US Large Cap Equities\n",
        "* The second one is called the Maddison Project, launched by the university of Maddison in []. It's a fantastic resource for academics as it that compiles what is probably the most comprehensive dataset on historical gdp and gdp per capita across countries. We will dive more into this database in an other video.\n",
        "\n",
        "### Tools\n",
        "To put everything together, we will use :\n",
        "* The python language\n",
        "* More precisely we will build a Jupyter Notebook, that enables to write, analyse, chart in the same environment\n",
        "* Several libraries: requests (web request), pandas for data wrangling, scipy for regressions, and matplotlib\n",
        "\n",
        "But now enough talking, let's go right into it!\n",
        "\n",
        " long term Equity return database, and the other is called\n",
        ":::\n",
        ":::\n",
        "\n",
        "::: {.content-visible when-profile=\"website\"}\n",
        "![](/pictures/time-horizon-paper.png)\n",
        "\n",
        "## Introduction\n",
        "Long Term Investing enables investors to capture the long term risk premium of various asset classes.\n",
        "\n",
        "In this article, we will explore how to download Shiller's Excel data on long-term stock market returns from his website using Python. We will use the requests library for HTTP requests and the pandas library for data manipulation. For visualization, we will use the Matplotlib library with the Pacoty stylesheet to create a chart comparing nominal equity returns, real equity returns, and real GDP growth.\n",
        "\n",
        "## Downloading Shiller's Data\n",
        "\n",
        "First, we need to import the required libraries and download the data using an HTTP request:\n",
        "\n",
        "This code below downloads the Excel file from Shiller's website, directly into memory, and reads it into a pandas DataFrame.\n",
        ":::"
      ]
    },
    {
      "cell_type": "code",
      "execution_count": null,
      "metadata": {
        "id": "MRkDX8pXhA2A",
        "outputId": "d98762e4-9897-48bf-a979-2d3b63c9f65b"
      },
      "outputs": [
        {
          "data": {
            "text/html": [
              "<style type=\"text/css\">\n",
              "</style>\n",
              "<table id=\"T_a39d3\">\n",
              "  <thead>\n",
              "    <tr>\n",
              "      <th class=\"blank level0\" >&nbsp;</th>\n",
              "      <th id=\"T_a39d3_level0_col0\" class=\"col_heading level0 col0\" >P</th>\n",
              "      <th id=\"T_a39d3_level0_col1\" class=\"col_heading level0 col1\" >D</th>\n",
              "      <th id=\"T_a39d3_level0_col2\" class=\"col_heading level0 col2\" >E</th>\n",
              "      <th id=\"T_a39d3_level0_col3\" class=\"col_heading level0 col3\" >CPI</th>\n",
              "    </tr>\n",
              "  </thead>\n",
              "  <tbody>\n",
              "    <tr>\n",
              "      <th id=\"T_a39d3_level0_row0\" class=\"row_heading level0 row0\" >1</th>\n",
              "      <td id=\"T_a39d3_row0_col0\" class=\"data row0 col0\" >4.50</td>\n",
              "      <td id=\"T_a39d3_row0_col1\" class=\"data row0 col1\" >0.26</td>\n",
              "      <td id=\"T_a39d3_row0_col2\" class=\"data row0 col2\" >0.40</td>\n",
              "      <td id=\"T_a39d3_row0_col3\" class=\"data row0 col3\" >12.84</td>\n",
              "    </tr>\n",
              "    <tr>\n",
              "      <th id=\"T_a39d3_level0_row1\" class=\"row_heading level0 row1\" >2</th>\n",
              "      <td id=\"T_a39d3_row1_col0\" class=\"data row1 col0\" >4.61</td>\n",
              "      <td id=\"T_a39d3_row1_col1\" class=\"data row1 col1\" >0.26</td>\n",
              "      <td id=\"T_a39d3_row1_col2\" class=\"data row1 col2\" >0.40</td>\n",
              "      <td id=\"T_a39d3_row1_col3\" class=\"data row1 col3\" >13.03</td>\n",
              "    </tr>\n",
              "    <tr>\n",
              "      <th id=\"T_a39d3_level0_row2\" class=\"row_heading level0 row2\" >3</th>\n",
              "      <td id=\"T_a39d3_row2_col0\" class=\"data row2 col0\" >4.74</td>\n",
              "      <td id=\"T_a39d3_row2_col1\" class=\"data row2 col1\" >0.26</td>\n",
              "      <td id=\"T_a39d3_row2_col2\" class=\"data row2 col2\" >0.40</td>\n",
              "      <td id=\"T_a39d3_row2_col3\" class=\"data row2 col3\" >12.56</td>\n",
              "    </tr>\n",
              "    <tr>\n",
              "      <th id=\"T_a39d3_level0_row3\" class=\"row_heading level0 row3\" >4</th>\n",
              "      <td id=\"T_a39d3_row3_col0\" class=\"data row3 col0\" >4.86</td>\n",
              "      <td id=\"T_a39d3_row3_col1\" class=\"data row3 col1\" >0.26</td>\n",
              "      <td id=\"T_a39d3_row3_col2\" class=\"data row3 col2\" >0.40</td>\n",
              "      <td id=\"T_a39d3_row3_col3\" class=\"data row3 col3\" >12.27</td>\n",
              "    </tr>\n",
              "    <tr>\n",
              "      <th id=\"T_a39d3_level0_row4\" class=\"row_heading level0 row4\" >5</th>\n",
              "      <td id=\"T_a39d3_row4_col0\" class=\"data row4 col0\" >4.82</td>\n",
              "      <td id=\"T_a39d3_row4_col1\" class=\"data row4 col1\" >0.26</td>\n",
              "      <td id=\"T_a39d3_row4_col2\" class=\"data row4 col2\" >0.40</td>\n",
              "      <td id=\"T_a39d3_row4_col3\" class=\"data row4 col3\" >12.08</td>\n",
              "    </tr>\n",
              "    <tr>\n",
              "      <th id=\"T_a39d3_level0_row5\" class=\"row_heading level0 row5\" >6</th>\n",
              "      <td id=\"T_a39d3_row5_col0\" class=\"data row5 col0\" >4.73</td>\n",
              "      <td id=\"T_a39d3_row5_col1\" class=\"data row5 col1\" >0.26</td>\n",
              "      <td id=\"T_a39d3_row5_col2\" class=\"data row5 col2\" >0.40</td>\n",
              "      <td id=\"T_a39d3_row5_col3\" class=\"data row5 col3\" >12.08</td>\n",
              "    </tr>\n",
              "    <tr>\n",
              "      <th id=\"T_a39d3_level0_row6\" class=\"row_heading level0 row6\" >7</th>\n",
              "      <td id=\"T_a39d3_row6_col0\" class=\"data row6 col0\" >4.79</td>\n",
              "      <td id=\"T_a39d3_row6_col1\" class=\"data row6 col1\" >0.26</td>\n",
              "      <td id=\"T_a39d3_row6_col2\" class=\"data row6 col2\" >0.40</td>\n",
              "      <td id=\"T_a39d3_row6_col3\" class=\"data row6 col3\" >11.89</td>\n",
              "    </tr>\n",
              "    <tr>\n",
              "      <th id=\"T_a39d3_level0_row7\" class=\"row_heading level0 row7\" >8</th>\n",
              "      <td id=\"T_a39d3_row7_col0\" class=\"data row7 col0\" >4.84</td>\n",
              "      <td id=\"T_a39d3_row7_col1\" class=\"data row7 col1\" >0.26</td>\n",
              "      <td id=\"T_a39d3_row7_col2\" class=\"data row7 col2\" >0.40</td>\n",
              "      <td id=\"T_a39d3_row7_col3\" class=\"data row7 col3\" >12.18</td>\n",
              "    </tr>\n",
              "    <tr>\n",
              "      <th id=\"T_a39d3_level0_row8\" class=\"row_heading level0 row8\" >9</th>\n",
              "      <td id=\"T_a39d3_row8_col0\" class=\"data row8 col0\" >4.59</td>\n",
              "      <td id=\"T_a39d3_row8_col1\" class=\"data row8 col1\" >0.26</td>\n",
              "      <td id=\"T_a39d3_row8_col2\" class=\"data row8 col2\" >0.40</td>\n",
              "      <td id=\"T_a39d3_row8_col3\" class=\"data row8 col3\" >12.37</td>\n",
              "    </tr>\n",
              "  </tbody>\n",
              "</table>\n"
            ],
            "text/plain": [
              "<pandas.io.formats.style.Styler at 0x112a519d0>"
            ]
          },
          "execution_count": 1,
          "metadata": {},
          "output_type": "execute_result"
        }
      ],
      "source": [
        "import requests\n",
        "import pandas as pd\n",
        "from io import BytesIO\n",
        "import dataframe_image as dfi\n",
        "\n",
        "url = \"http://www.econ.yale.edu/~shiller/data/ie_data.xls\"\n",
        "\n",
        "response = requests.get(url)\n",
        "\n",
        "def make_pretty(styler):\n",
        "    styler.format(precision=2)\n",
        "    return styler\n",
        "\n",
        "# Check if the request was successful\n",
        "if response.status_code == 200:\n",
        "    data = pd.read_excel(BytesIO(response.content), sheet_name='Data', header=7)\n",
        "else:\n",
        "    print(\"Failed to download the data\")\n",
        "\n",
        "data.iloc[1:10, 1:5].style.pipe(make_pretty)\n",
        "\n"
      ]
    },
    {
      "cell_type": "markdown",
      "metadata": {
        "id": "NnPHVhfDhA2A"
      },
      "source": [
        "## Downloading Maddison Project GDP Data"
      ]
    },
    {
      "cell_type": "code",
      "execution_count": null,
      "metadata": {
        "id": "W4zjWp6VhA2B"
      },
      "outputs": [],
      "source": [
        "url = \"https://www.rug.nl/ggdc/historicaldevelopment/maddison/data/mpd2020.xlsx\"\n",
        "\n",
        "response = requests.get(url)\n",
        "\n",
        "def make_pretty(styler):\n",
        "    styler.format(precision=2)\n",
        "    return styler\n",
        "\n",
        "# Check if the request was successful\n",
        "if response.status_code == 200:\n",
        "    data_gdp= pd.read_excel(BytesIO(response.content),sheet_name=\"Full data\", header=0)\n",
        "else:\n",
        "    print(\"Failed to download the data\")"
      ]
    },
    {
      "cell_type": "code",
      "execution_count": null,
      "metadata": {
        "id": "EHdzDVRGhA2B",
        "outputId": "51a80786-2c31-42de-9749-5c6282ed70a2"
      },
      "outputs": [
        {
          "data": {
            "text/html": [
              "<style type=\"text/css\">\n",
              "</style>\n",
              "<table id=\"T_fc921\">\n",
              "  <thead>\n",
              "    <tr>\n",
              "      <th class=\"blank level0\" >&nbsp;</th>\n",
              "      <th id=\"T_fc921_level0_col0\" class=\"col_heading level0 col0\" >country</th>\n",
              "      <th id=\"T_fc921_level0_col1\" class=\"col_heading level0 col1\" >year</th>\n",
              "      <th id=\"T_fc921_level0_col2\" class=\"col_heading level0 col2\" >gdppc</th>\n",
              "      <th id=\"T_fc921_level0_col3\" class=\"col_heading level0 col3\" >pop</th>\n",
              "    </tr>\n",
              "    <tr>\n",
              "      <th class=\"index_name level0\" >date</th>\n",
              "      <th class=\"blank col0\" >&nbsp;</th>\n",
              "      <th class=\"blank col1\" >&nbsp;</th>\n",
              "      <th class=\"blank col2\" >&nbsp;</th>\n",
              "      <th class=\"blank col3\" >&nbsp;</th>\n",
              "    </tr>\n",
              "  </thead>\n",
              "  <tbody>\n",
              "    <tr>\n",
              "      <th id=\"T_fc921_level0_row0\" class=\"row_heading level0 row0\" >1870-12-31</th>\n",
              "      <td id=\"T_fc921_row0_col0\" class=\"data row0 col0\" >Afghanistan</td>\n",
              "      <td id=\"T_fc921_row0_col1\" class=\"data row0 col1\" >1870</td>\n",
              "      <td id=\"T_fc921_row0_col2\" class=\"data row0 col2\" >nan</td>\n",
              "      <td id=\"T_fc921_row0_col3\" class=\"data row0 col3\" >4207.00</td>\n",
              "    </tr>\n",
              "    <tr>\n",
              "      <th id=\"T_fc921_level0_row1\" class=\"row_heading level0 row1\" >1913-12-31</th>\n",
              "      <td id=\"T_fc921_row1_col0\" class=\"data row1 col0\" >Afghanistan</td>\n",
              "      <td id=\"T_fc921_row1_col1\" class=\"data row1 col1\" >1913</td>\n",
              "      <td id=\"T_fc921_row1_col2\" class=\"data row1 col2\" >nan</td>\n",
              "      <td id=\"T_fc921_row1_col3\" class=\"data row1 col3\" >5730.00</td>\n",
              "    </tr>\n",
              "    <tr>\n",
              "      <th id=\"T_fc921_level0_row2\" class=\"row_heading level0 row2\" >1950-12-31</th>\n",
              "      <td id=\"T_fc921_row2_col0\" class=\"data row2 col0\" >Afghanistan</td>\n",
              "      <td id=\"T_fc921_row2_col1\" class=\"data row2 col1\" >1950</td>\n",
              "      <td id=\"T_fc921_row2_col2\" class=\"data row2 col2\" >1156.00</td>\n",
              "      <td id=\"T_fc921_row2_col3\" class=\"data row2 col3\" >8150.00</td>\n",
              "    </tr>\n",
              "    <tr>\n",
              "      <th id=\"T_fc921_level0_row3\" class=\"row_heading level0 row3\" >1951-12-31</th>\n",
              "      <td id=\"T_fc921_row3_col0\" class=\"data row3 col0\" >Afghanistan</td>\n",
              "      <td id=\"T_fc921_row3_col1\" class=\"data row3 col1\" >1951</td>\n",
              "      <td id=\"T_fc921_row3_col2\" class=\"data row3 col2\" >1170.00</td>\n",
              "      <td id=\"T_fc921_row3_col3\" class=\"data row3 col3\" >8284.00</td>\n",
              "    </tr>\n",
              "    <tr>\n",
              "      <th id=\"T_fc921_level0_row4\" class=\"row_heading level0 row4\" >1952-12-31</th>\n",
              "      <td id=\"T_fc921_row4_col0\" class=\"data row4 col0\" >Afghanistan</td>\n",
              "      <td id=\"T_fc921_row4_col1\" class=\"data row4 col1\" >1952</td>\n",
              "      <td id=\"T_fc921_row4_col2\" class=\"data row4 col2\" >1189.00</td>\n",
              "      <td id=\"T_fc921_row4_col3\" class=\"data row4 col3\" >8425.00</td>\n",
              "    </tr>\n",
              "    <tr>\n",
              "      <th id=\"T_fc921_level0_row5\" class=\"row_heading level0 row5\" >1953-12-31</th>\n",
              "      <td id=\"T_fc921_row5_col0\" class=\"data row5 col0\" >Afghanistan</td>\n",
              "      <td id=\"T_fc921_row5_col1\" class=\"data row5 col1\" >1953</td>\n",
              "      <td id=\"T_fc921_row5_col2\" class=\"data row5 col2\" >1240.00</td>\n",
              "      <td id=\"T_fc921_row5_col3\" class=\"data row5 col3\" >8573.00</td>\n",
              "    </tr>\n",
              "    <tr>\n",
              "      <th id=\"T_fc921_level0_row6\" class=\"row_heading level0 row6\" >1954-12-31</th>\n",
              "      <td id=\"T_fc921_row6_col0\" class=\"data row6 col0\" >Afghanistan</td>\n",
              "      <td id=\"T_fc921_row6_col1\" class=\"data row6 col1\" >1954</td>\n",
              "      <td id=\"T_fc921_row6_col2\" class=\"data row6 col2\" >1245.00</td>\n",
              "      <td id=\"T_fc921_row6_col3\" class=\"data row6 col3\" >8728.00</td>\n",
              "    </tr>\n",
              "    <tr>\n",
              "      <th id=\"T_fc921_level0_row7\" class=\"row_heading level0 row7\" >1955-12-31</th>\n",
              "      <td id=\"T_fc921_row7_col0\" class=\"data row7 col0\" >Afghanistan</td>\n",
              "      <td id=\"T_fc921_row7_col1\" class=\"data row7 col1\" >1955</td>\n",
              "      <td id=\"T_fc921_row7_col2\" class=\"data row7 col2\" >1246.00</td>\n",
              "      <td id=\"T_fc921_row7_col3\" class=\"data row7 col3\" >8891.00</td>\n",
              "    </tr>\n",
              "    <tr>\n",
              "      <th id=\"T_fc921_level0_row8\" class=\"row_heading level0 row8\" >1956-12-31</th>\n",
              "      <td id=\"T_fc921_row8_col0\" class=\"data row8 col0\" >Afghanistan</td>\n",
              "      <td id=\"T_fc921_row8_col1\" class=\"data row8 col1\" >1956</td>\n",
              "      <td id=\"T_fc921_row8_col2\" class=\"data row8 col2\" >1278.00</td>\n",
              "      <td id=\"T_fc921_row8_col3\" class=\"data row8 col3\" >9062.00</td>\n",
              "    </tr>\n",
              "  </tbody>\n",
              "</table>\n"
            ],
            "text/plain": [
              "<pandas.io.formats.style.Styler at 0x1a82c4fa0>"
            ]
          },
          "execution_count": 38,
          "metadata": {},
          "output_type": "execute_result"
        }
      ],
      "source": [
        "import numpy.ma as ma\n",
        "data_gdp[\"gdp\"] = data_gdp.gdppc * data_gdp[\"pop\"]\n",
        "dates = ma.array(\n",
        "    [f'{y}-{12}-{31}' for y in data_gdp.year.to_list()],\n",
        "    dtype='datetime64[D]'\n",
        "    )\n",
        "\n",
        "data_gdp[\"date\"] = dates.tolist()\n",
        "data_gdp.set_index(\"date\", inplace=True)\n",
        "data_gdp.iloc[1:10, 1:5].style.pipe(make_pretty)"
      ]
    },
    {
      "cell_type": "code",
      "execution_count": null,
      "metadata": {
        "id": "9sfJstKphA2B",
        "outputId": "bcc6435e-7f36-46cb-ec9a-cdbfcf69b6f2"
      },
      "outputs": [
        {
          "data": {
            "text/plain": [
              "<AxesSubplot:xlabel='date'>"
            ]
          },
          "execution_count": 39,
          "metadata": {},
          "output_type": "execute_result"
        },
        {
          "data": {
            "image/png": "[encoded data removed]",
            "text/plain": [
              "<Figure size 432x288 with 1 Axes>"
            ]
          },
          "metadata": {
            "needs_background": "light"
          },
          "output_type": "display_data"
        }
      ],
      "source": [
        "data_gdp[data_gdp.countrycode == \"USA\"].gdp.plot()"
      ]
    },
    {
      "cell_type": "markdown",
      "metadata": {
        "id": "6h2DQGk2hA2B"
      },
      "source": [
        "## Cleanup and Columns Renaming"
      ]
    },
    {
      "cell_type": "code",
      "execution_count": null,
      "metadata": {
        "id": "GdM6yPRmhA2B"
      },
      "outputs": [],
      "source": [
        "#Excel Import is mixing up columns, re-titling them\n",
        "data.columns = [\"Date\", \"S&P Composite\", \"Dividend (D)\", \"Earnings (E)\", \"Consumer Price Index (CPI)\", \"Date Fraction\", \"Long Interest Rate (I)\", \"Real Price\", \"Real Dividend\", \"Real Total Return Price\", \"Real Earnings\", \"Real TR Scaled Earnings\", \"CAPE\", \"\", \"TR CAPE\", \"\", \"Excess CAPE Yield\", \"Monthly Total Bond Returns\", \"Real Total Bond Returns\", \"10Y Ann Stock Real Return\", \"10Y Ann Bon Real Return\", \"Real 10Y Ann Excess Return\"]\n",
        "data = data[:-2]\n",
        "data[\"date\"] = pd.to_datetime(data['Date'].map('{:.2f}'.format), format='%Y.%m')\n",
        "data.set_index(\"date\", inplace=True)\n",
        "data[\"Price Return\"] = data[\"Real Price\"].div(data[\"Real Price\"].iloc[0])\n",
        "data[\"Total Return\"] = data.loc[:, \"Real Total Return Price\"].div(data[\"Real Total Return Price\"].iloc[0])\n",
        "data[\"CPI\"] = data.loc[:, \"Consumer Price Index (CPI)\"].div(data[\"Consumer Price Index (CPI)\"].iloc[0])\n",
        "\n"
      ]
    },
    {
      "cell_type": "markdown",
      "metadata": {
        "id": "6jx3LFxohA2B"
      },
      "source": [
        "## Visualizing the Data with Matplotlib and Pacoty\n",
        "\n",
        "::: {.content-visible when-profile=\"website\"}\n",
        "Next, we will create a chart comparing the nominal equity returns, real equity returns, and real GDP growth using Matplotlib and the Pacoty.\n",
        "Let's start with a first sanity check on the data.\n",
        ":::\n",
        "\n",
        "\n",
        "![Dataframe](https://github.com/vdenoise/portfolio-geek/blob/master/posts/tutorials/en/shiller-data.png?raw=1)\n"
      ]
    },
    {
      "cell_type": "markdown",
      "metadata": {
        "id": "ziRbJ4A8hA2C"
      },
      "source": [
        "::: {.content-visible when-profile=\"website\"}\n",
        "This code snippet creates a chart with a logarithmic scale, comparing nominal equity returns, real equity returns, and real GDP growth over time.\n",
        ":::"
      ]
    },
    {
      "cell_type": "markdown",
      "metadata": {
        "id": "AC2wtfKphA2C"
      },
      "source": [
        "## Long Term Equity Returns\n"
      ]
    },
    {
      "cell_type": "code",
      "execution_count": null,
      "metadata": {
        "id": "zWpaPo0uhA2C",
        "outputId": "df30806e-01c9-463b-a912-85d6e9e2327a"
      },
      "outputs": [
        {
          "ename": "KeyError",
          "evalue": "\"None of [Index(['Real Price'], dtype='object')] are in the [columns]\"",
          "output_type": "error",
          "traceback": [
            "\u001b[0;31m---------------------------------------------------------------------------\u001b[0m",
            "\u001b[0;31mKeyError\u001b[0m                                  Traceback (most recent call last)",
            "\u001b[1;32m/Users/vincent/dev/portfolio-geek/posts/tutorials/en/shiller-data-python.ipynb Cell 14\u001b[0m line \u001b[0;36m<cell line: 25>\u001b[0;34m()\u001b[0m\n\u001b[1;32m     <a href='vscode-notebook-cell:/Users/vincent/dev/portfolio-geek/posts/tutorials/en/shiller-data-python.ipynb#X14sZmlsZQ%3D%3D?line=21'>22</a>\u001b[0m fig, ax \u001b[39m=\u001b[39m plt\u001b[39m.\u001b[39msubplots()\n\u001b[1;32m     <a href='vscode-notebook-cell:/Users/vincent/dev/portfolio-geek/posts/tutorials/en/shiller-data-python.ipynb#X14sZmlsZQ%3D%3D?line=23'>24</a>\u001b[0m \u001b[39m# Extract the data we need\u001b[39;00m\n\u001b[0;32m---> <a href='vscode-notebook-cell:/Users/vincent/dev/portfolio-geek/posts/tutorials/en/shiller-data-python.ipynb#X14sZmlsZQ%3D%3D?line=24'>25</a>\u001b[0m dates \u001b[39m=\u001b[39m data[[\u001b[39m\"\u001b[39;49m\u001b[39mReal Price\u001b[39;49m\u001b[39m\"\u001b[39;49m]]\u001b[39m.\u001b[39mresample(\u001b[39m\"\u001b[39m\u001b[39mY\u001b[39m\u001b[39m\"\u001b[39m)\u001b[39m.\u001b[39mlast()\u001b[39m.\u001b[39mindex\n\u001b[1;32m     <a href='vscode-notebook-cell:/Users/vincent/dev/portfolio-geek/posts/tutorials/en/shiller-data-python.ipynb#X14sZmlsZQ%3D%3D?line=25'>26</a>\u001b[0m real_tr \u001b[39m=\u001b[39m \u001b[39mlist\u001b[39m(data[\u001b[39m'\u001b[39m\u001b[39mPrice Return\u001b[39m\u001b[39m'\u001b[39m]\u001b[39m.\u001b[39mresample(\u001b[39m\"\u001b[39m\u001b[39mY\u001b[39m\u001b[39m\"\u001b[39m)\u001b[39m.\u001b[39mlast()\u001b[39m.\u001b[39mvalues)\n\u001b[1;32m     <a href='vscode-notebook-cell:/Users/vincent/dev/portfolio-geek/posts/tutorials/en/shiller-data-python.ipynb#X14sZmlsZQ%3D%3D?line=26'>27</a>\u001b[0m real_pr \u001b[39m=\u001b[39m \u001b[39mlist\u001b[39m(data[\u001b[39m\"\u001b[39m\u001b[39mTotal Return\u001b[39m\u001b[39m\"\u001b[39m]\u001b[39m.\u001b[39mresample(\u001b[39m\"\u001b[39m\u001b[39mY\u001b[39m\u001b[39m\"\u001b[39m)\u001b[39m.\u001b[39mlast()\u001b[39m.\u001b[39mvalues)\n",
            "File \u001b[0;32m/usr/local/Caskroom/miniconda/base/envs/portfolio-geek/lib/python3.9/site-packages/pandas/core/frame.py:3511\u001b[0m, in \u001b[0;36mDataFrame.__getitem__\u001b[0;34m(self, key)\u001b[0m\n\u001b[1;32m   3509\u001b[0m     \u001b[39mif\u001b[39;00m is_iterator(key):\n\u001b[1;32m   3510\u001b[0m         key \u001b[39m=\u001b[39m \u001b[39mlist\u001b[39m(key)\n\u001b[0;32m-> 3511\u001b[0m     indexer \u001b[39m=\u001b[39m \u001b[39mself\u001b[39;49m\u001b[39m.\u001b[39;49mcolumns\u001b[39m.\u001b[39;49m_get_indexer_strict(key, \u001b[39m\"\u001b[39;49m\u001b[39mcolumns\u001b[39;49m\u001b[39m\"\u001b[39;49m)[\u001b[39m1\u001b[39m]\n\u001b[1;32m   3513\u001b[0m \u001b[39m# take() does not accept boolean indexers\u001b[39;00m\n\u001b[1;32m   3514\u001b[0m \u001b[39mif\u001b[39;00m \u001b[39mgetattr\u001b[39m(indexer, \u001b[39m\"\u001b[39m\u001b[39mdtype\u001b[39m\u001b[39m\"\u001b[39m, \u001b[39mNone\u001b[39;00m) \u001b[39m==\u001b[39m \u001b[39mbool\u001b[39m:\n",
            "File \u001b[0;32m/usr/local/Caskroom/miniconda/base/envs/portfolio-geek/lib/python3.9/site-packages/pandas/core/indexes/base.py:5782\u001b[0m, in \u001b[0;36mIndex._get_indexer_strict\u001b[0;34m(self, key, axis_name)\u001b[0m\n\u001b[1;32m   5779\u001b[0m \u001b[39melse\u001b[39;00m:\n\u001b[1;32m   5780\u001b[0m     keyarr, indexer, new_indexer \u001b[39m=\u001b[39m \u001b[39mself\u001b[39m\u001b[39m.\u001b[39m_reindex_non_unique(keyarr)\n\u001b[0;32m-> 5782\u001b[0m \u001b[39mself\u001b[39;49m\u001b[39m.\u001b[39;49m_raise_if_missing(keyarr, indexer, axis_name)\n\u001b[1;32m   5784\u001b[0m keyarr \u001b[39m=\u001b[39m \u001b[39mself\u001b[39m\u001b[39m.\u001b[39mtake(indexer)\n\u001b[1;32m   5785\u001b[0m \u001b[39mif\u001b[39;00m \u001b[39misinstance\u001b[39m(key, Index):\n\u001b[1;32m   5786\u001b[0m     \u001b[39m# GH 42790 - Preserve name from an Index\u001b[39;00m\n",
            "File \u001b[0;32m/usr/local/Caskroom/miniconda/base/envs/portfolio-geek/lib/python3.9/site-packages/pandas/core/indexes/base.py:5842\u001b[0m, in \u001b[0;36mIndex._raise_if_missing\u001b[0;34m(self, key, indexer, axis_name)\u001b[0m\n\u001b[1;32m   5840\u001b[0m     \u001b[39mif\u001b[39;00m use_interval_msg:\n\u001b[1;32m   5841\u001b[0m         key \u001b[39m=\u001b[39m \u001b[39mlist\u001b[39m(key)\n\u001b[0;32m-> 5842\u001b[0m     \u001b[39mraise\u001b[39;00m \u001b[39mKeyError\u001b[39;00m(\u001b[39mf\u001b[39m\u001b[39m\"\u001b[39m\u001b[39mNone of [\u001b[39m\u001b[39m{\u001b[39;00mkey\u001b[39m}\u001b[39;00m\u001b[39m] are in the [\u001b[39m\u001b[39m{\u001b[39;00maxis_name\u001b[39m}\u001b[39;00m\u001b[39m]\u001b[39m\u001b[39m\"\u001b[39m)\n\u001b[1;32m   5844\u001b[0m not_found \u001b[39m=\u001b[39m \u001b[39mlist\u001b[39m(ensure_index(key)[missing_mask\u001b[39m.\u001b[39mnonzero()[\u001b[39m0\u001b[39m]]\u001b[39m.\u001b[39munique())\n\u001b[1;32m   5845\u001b[0m \u001b[39mraise\u001b[39;00m \u001b[39mKeyError\u001b[39;00m(\u001b[39mf\u001b[39m\u001b[39m\"\u001b[39m\u001b[39m{\u001b[39;00mnot_found\u001b[39m}\u001b[39;00m\u001b[39m not in index\u001b[39m\u001b[39m\"\u001b[39m)\n",
            "\u001b[0;31mKeyError\u001b[0m: \"None of [Index(['Real Price'], dtype='object')] are in the [columns]\""
          ]
        },
        {
          "data": {
            "image/png": "[encoded data removed]",
            "text/plain": [
              "<Figure size 1200x600 with 1 Axes>"
            ]
          },
          "metadata": {},
          "output_type": "display_data"
        }
      ],
      "source": [
        "#| label: long-term-return\n",
        "#| fig-cap: \"Long term equity returns vs CPI\"\n",
        "import matplotlib.pyplot as plt\n",
        "import numpy as np\n",
        "from scipy.ndimage import gaussian_filter1d\n",
        "from scipy import interpolate\n",
        "import highlight_text as ht\n",
        "from highlight_text import HighlightText, ax_text, fig_text\n",
        "import matplotlib.dates as mdates\n",
        "import datetime as dt\n",
        "from scipy import stats\n",
        "\n",
        "\n",
        "def decyear4(year, month, day, h=0, m=0, s=0):\n",
        "    return year + ((30.4375*(month-1) + day-1)*24+h)*3600/31557600.0\n",
        "\n",
        "# Set the Pacoty stylesheet\n",
        "mpl_style = \"revealjs_whiteboard\"\n",
        "plt.style.use(f'../../stylesheets/{mpl_style}.mplstyle')\n",
        "\n",
        "# Create a figure and axis\n",
        "fig, ax = plt.subplots()\n",
        "\n",
        "# Extract the data we need\n",
        "dates = data[[\"Real Price\"]].resample(\"Y\").last().index\n",
        "real_tr = list(data['Price Return'].resample(\"Y\").last().values)\n",
        "real_pr = list(data[\"Total Return\"].resample(\"Y\").last().values)\n",
        "cpi = list(data[\"CPI\"].resample(\"Y\").last().values)\n",
        "\n",
        "#gdp_growth = data['Real GDP Growth']\n",
        "\n",
        "# Plot the data on a logarithmic scale\n",
        "\n",
        "f_real_tr= interpolate.interp1d(dates.year, real_tr, 'cubic')\n",
        "f_real_pr = interpolate.interp1d(dates.year, real_pr, 'cubic')\n",
        "\n",
        "real_tr_interpol = f_real_tr(dates.year)\n",
        "real_pr_interpol = f_real_pr(dates.year)\n",
        "\n",
        "stats.linregress(dates.year, real_tr)\n",
        "\n",
        "ax.semilogy(dates, real_pr_interpol)\n",
        "ax.semilogy(dates, real_tr_interpol)\n",
        "us_gdp = data_gdp[data_gdp.countrycode == \"USA\"]\n",
        "ax.semilogy(us_gdp.index, us_gdp)\n",
        "ax.semilogy(dates, cpi)\n",
        "\n",
        "#ax.semilogy(years, data[])\n",
        "\n",
        "size = plt.rcParams['font.size']\n",
        "highlight_textprops =[{\"fontsize\": size + 4},\n",
        "                      {\"fontsize\": size}]\n",
        "\n",
        "HighlightText(x=0.5, y=0.98, ha='center',\n",
        "              s='<Long Term Equity Returns>\\n<Equity vs GDP Growth and Inflation>',\n",
        "              highlight_textprops=highlight_textprops,\n",
        "              annotationbbox_kw={'boxcoords': fig.transFigure}, textalign=\"center\")\n",
        "\n",
        "# Customize the chart\n",
        "ax.set_xlabel('Years')\n",
        "ax.set_ylabel(f'Value, basis 1 in {(data.index.min().strftime(\"%d.%m.%Y\"))}')\n",
        "#ax.set_title('Long Term Equity Returns')\n",
        "fig.legend(labels = [\"US Equity: Price (Real)\", \"US Equity: Price & Divs (Real)\", \"CPI\"], loc=\"lower left\", ncol=3, bbox_to_anchor=(0.05, -0.03, 0.5, 0.5))\n",
        "ax.xaxis.set_major_locator(mdates.YearLocator(30))\n",
        "ax.xaxis.set_major_formatter(\n",
        "    mdates.ConciseDateFormatter(ax.xaxis.get_major_locator()))\n",
        "\n",
        "# Show the chart\n",
        "plt.show()\n",
        "plt.close()\n",
        "#fig.savefig(\"shiller-returns.png\")"
      ]
    },
    {
      "cell_type": "markdown",
      "metadata": {
        "id": "nwcj38jKhA2C"
      },
      "source": [
        "::: {.content-visible when-profile=\"website\"}\n",
        "The resulting chart demonstrates the power of compounded returns and the equity risk premium that has rewarded long-term shareholders. By using Python libraries like requests, pandas, and Matplotlib, we can easily download, process, and visualize financial data to better understand market trends and investment strategies.\n",
        ":::"
      ]
    },
    {
      "cell_type": "markdown",
      "metadata": {
        "id": "vBFSRBXvhA2C"
      },
      "source": [
        "::: {.content-visible when-profile=\"presentation\"}\n",
        "\n",
        "::: {.notes}\n",
        "The resulting chart demonstrates the power of compounded returns and the equity risk premium that has rewarded long-term shareholders. By using Python libraries like requests, pandas, and Matplotlib, we can easily download, process, and visualize financial data to better understand market trends and investment strategies.\n",
        ":::\n",
        "\n",
        ":::"
      ]
    }
  ],
  "metadata": {
    "kernelspec": {
      "display_name": "portfolio-geek",
      "language": "python",
      "name": "python3"
    },
    "language_info": {
      "codemirror_mode": {
        "name": "ipython",
        "version": 3
      },
      "file_extension": ".py",
      "mimetype": "text/x-python",
      "name": "python",
      "nbconvert_exporter": "python",
      "pygments_lexer": "ipython3",
      "version": "3.9.10"
    },
    "colab": {
      "provenance": []
    }
  },
  "nbformat": 4,
  "nbformat_minor": 0
}