{
 "cells": [
  {
   "cell_type": "raw",
   "metadata": {},
   "source": [
    "---\n",
    "title: Analyzing Equity long Term Returns with Python\n",
    "categories: [tutorial, long term investing, en]\n",
    "jupyter: python3\n",
    "execute:\n",
    "    freeze: auto\n",
    "--- "
   ]
  },
  {
   "cell_type": "code",
   "execution_count": null,
   "metadata": {},
   "outputs": [],
   "source": [
    "#| echo: false\n",
    "import os\n",
    "import datetime as dt\n",
    "\n",
    "figsize_width = os.getenv(\"FIGSIZE_WIDTH\")\n",
    "if type(figsize_width) == str:\n",
    "    figsize_width = int(figsize_width)\n",
    "else:\n",
    "    figsize_width = 6\n",
    "\n",
    "figsize_height = os.getenv(\"FIGSIZE_HEIGHT\")\n",
    "if type(figsize_height) == str:\n",
    "    figsize_height = int(figsize_height)\n",
    "else:\n",
    "    figsize_height = 4\n",
    "\n",
    "figsize = (figsize_width, figsize_height)\n",
    "mpl_style = os.getenv(\"MPL_STYLE\")\n",
    "\n",
    "if type(mpl_style) != str:\n",
    "    mpl_style = \"pacoty\"\n",
    "\n"
   ]
  },
  {
   "attachments": {},
   "cell_type": "markdown",
   "metadata": {},
   "source": [
    "::: {.content-visible when-profile=\"presentation\"}\n",
    "::: {.notes}\n",
    "### Intro\n",
    "Hello everyone and welcome to this first video of the Portfolio Geek channel. In this video we will look at what long term investing means for Equity investors.\n",
    "Many investors think about stock trades and financial analysis, selecting the best stock based on its value, cash flow dividends, and then looking at entry points, trying to find the best timing to exit and so forth. \n",
    "\n",
    "Note: ideally, bullet points on green screen to make sure it goes as key holding points.\n",
    "\n",
    "### Structure of the 10 minutes\n",
    "What I will aim to do in the next 10 minutes is to provide you with some perspective on why long term investing makes sense, and how it might actually provide very good returns as long as the investor is sufficiently patient about it. \n",
    "To do so, I will look at 2 online databases with free access to everyone:\n",
    "* The first one is a famous one, launched by Robert Shiller, extremely well known in the finance and academic community. It provides everyone with the long term returns of the S&P 500, ie the reference of US Large Cap Equities\n",
    "* The second one is called the Maddison Project, launched by the university of Maddison in []. It's a fantastic resource for academics as it that compiles what is probably the most comprehensive dataset on historical gdp and gdp per capita across countries. We will dive more into this database in an other video.\n",
    "\n",
    "### Tools\n",
    "To put everything together, we will use :\n",
    "* The python language\n",
    "* More precisely we will build a Jupyter Notebook, that enables to write, analyse, chart in the same environment\n",
    "* Several libraries: requests (web request), pandas for data wrangling, scipy for regressions, and matplotlib\n",
    "\n",
    "But now enough talking, let's go right into it!\n",
    "\n",
    " long term Equity return database, and the other is called\n",
    ":::\n",
    ":::\n",
    "\n",
    "::: {.content-visible when-profile=\"website\"}\n",
    "![](/pictures/time-horizon-paper.png)\n",
    "\n",
    "## Introduction\n",
    "Long Term Investing enables investors to capture the long term risk premium of various asset classes.\n",
    "\n",
    "In this article, we will explore how to download Shiller's Excel data on long-term stock market returns from his website using Python. We will use the requests library for HTTP requests and the pandas library for data manipulation. For visualization, we will use the Matplotlib library with the Pacoty stylesheet to create a chart comparing nominal equity returns, real equity returns, and real GDP growth.\n",
    "\n",
    "## Downloading Shiller's Data\n",
    "\n",
    "First, we need to import the required libraries and download the data using an HTTP request:\n",
    "\n",
    "This code below downloads the Excel file from Shiller's website, directly into memory, and reads it into a pandas DataFrame.\n",
    ":::"
   ]
  },
  {
   "cell_type": "code",
   "execution_count": null,
   "metadata": {},
   "outputs": [],
   "source": [
    "import requests\n",
    "import pandas as pd\n",
    "from io import BytesIO\n",
    "import dataframe_image as dfi\n",
    "\n",
    "url = \"http://www.econ.yale.edu/~shiller/data/ie_data.xls\"\n",
    "\n",
    "response = requests.get(url)\n",
    "\n",
    "def make_pretty(styler):\n",
    "    styler.format(precision=2)\n",
    "    return styler\n",
    "\n",
    "# Check if the request was successful\n",
    "if response.status_code == 200:\n",
    "    data = pd.read_excel(BytesIO(response.content), sheet_name='Data', header=7)\n",
    "else:\n",
    "    print(\"Failed to download the data\")\n",
    "\n",
    "data.iloc[1:10, 1:5].style.pipe(make_pretty)\n",
    "\n"
   ]
  },
  {
   "cell_type": "markdown",
   "metadata": {},
   "source": [
    "## Downloading Maddison Project GDP Data"
   ]
  },
  {
   "cell_type": "code",
   "execution_count": null,
   "metadata": {},
   "outputs": [],
   "source": [
    "url = \"https://www.rug.nl/ggdc/historicaldevelopment/maddison/data/mpd2020.xlsx\"\n",
    "\n",
    "response = requests.get(url)\n",
    "\n",
    "def make_pretty(styler):\n",
    "    styler.format(precision=2)\n",
    "    return styler\n",
    "\n",
    "# Check if the request was successful\n",
    "if response.status_code == 200:\n",
    "    data_gdp= pd.read_excel(BytesIO(response.content),sheet_name=\"Full data\", header=0)\n",
    "else:\n",
    "    print(\"Failed to download the data\")"
   ]
  },
  {
   "cell_type": "code",
   "execution_count": null,
   "metadata": {},
   "outputs": [],
   "source": [
    "import numpy.ma as ma\n",
    "data_gdp[\"gdp\"] = data_gdp.gdppc * data_gdp[\"pop\"]\n",
    "dates = ma.array(\n",
    "    [f'{y}-{12}-{31}' for y in data_gdp.year.to_list()],\n",
    "    dtype='datetime64[D]'\n",
    "    )\n",
    "\n",
    "data_gdp[\"date\"] = dates.tolist()\n",
    "data_gdp.set_index(\"date\", inplace=True)\n",
    "data_gdp.iloc[1:10, 1:5].style.pipe(make_pretty)"
   ]
  },
  {
   "cell_type": "markdown",
   "metadata": {},
   "source": [
    "## Cleanup and Columns Renaming"
   ]
  },
  {
   "cell_type": "code",
   "execution_count": null,
   "metadata": {},
   "outputs": [],
   "source": [
    "#Excel Import is mixing up columns, re-titling them\n",
    "data.columns = [\"Date\", \"S&P Composite\", \"Dividend (D)\", \"Earnings (E)\", \"Consumer Price Index (CPI)\", \"Date Fraction\", \"Long Interest Rate (I)\", \"Real Price\", \"Real Dividend\", \"Real Total Return Price\", \"Real Earnings\", \"Real TR Scaled Earnings\", \"CAPE\", \"\", \"TR CAPE\", \"\", \"Excess CAPE Yield\", \"Monthly Total Bond Returns\", \"Real Total Bond Returns\", \"10Y Ann Stock Real Return\", \"10Y Ann Bon Real Return\", \"Real 10Y Ann Excess Return\"]\n",
    "data = data[:-2]\n",
    "data[\"date\"] = pd.to_datetime(data['Date'].map('{:.2f}'.format), format='%Y.%m')\n",
    "data.set_index(\"date\", inplace=True)\n",
    "data[\"Price Return\"] = data[\"Real Price\"].div(data[\"Real Price\"].iloc[0])\n",
    "data[\"Total Return\"] = data.loc[:, \"Real Total Return Price\"].div(data[\"Real Total Return Price\"].iloc[0])\n",
    "data[\"CPI\"] = data.loc[:, \"Consumer Price Index (CPI)\"].div(data[\"Consumer Price Index (CPI)\"].iloc[0])\n",
    "\n"
   ]
  },
  {
   "attachments": {},
   "cell_type": "markdown",
   "metadata": {},
   "source": [
    "## Visualizing the Data with Matplotlib and Pacoty\n",
    "\n",
    "::: {.content-visible when-profile=\"website\"}\n",
    "Next, we will create a chart comparing the nominal equity returns, real equity returns, and real GDP growth using Matplotlib and the Pacoty.\n",
    "Let's start with a first sanity check on the data.\n",
    ":::\n",
    "\n",
    "\n",
    "![Dataframe](shiller-data.png)\n"
   ]
  },
  {
   "cell_type": "markdown",
   "metadata": {},
   "source": [
    "::: {.content-visible when-profile=\"website\"}\n",
    "This code snippet creates a chart with a logarithmic scale, comparing nominal equity returns, real equity returns, and real GDP growth over time.\n",
    ":::"
   ]
  },
  {
   "cell_type": "markdown",
   "metadata": {},
   "source": [
    "## Long Term Equity Returns\n"
   ]
  },
  {
   "cell_type": "code",
   "execution_count": null,
   "metadata": {},
   "outputs": [],
   "source": []
  },
  {
   "cell_type": "code",
   "execution_count": null,
   "metadata": {},
   "outputs": [],
   "source": [
    "#| label: long-term-return\n",
    "#| fig-cap: \"Long term equity returns vs CPI\"\n",
    "import matplotlib.pyplot as plt\n",
    "import numpy as np\n",
    "from scipy.ndimage import gaussian_filter1d\n",
    "from scipy import interpolate\n",
    "import highlight_text as ht\n",
    "from highlight_text import HighlightText, ax_text, fig_text\n",
    "import matplotlib.dates as mdates\n",
    "import datetime as dt\n",
    "from scipy import stats\n",
    "\n",
    "\n",
    "def decyear4(year, month, day, h=0, m=0, s=0):\n",
    "    return year + ((30.4375*(month-1) + day-1)*24+h)*3600/31557600.0 \n",
    "\n",
    "# Set the Pacoty stylesheet\n",
    "mpl_style = \"revealjs_whiteboard\"\n",
    "plt.style.use(f'../../stylesheets/{mpl_style}.mplstyle')\n",
    "\n",
    "# Create a figure and axis\n",
    "fig, ax = plt.subplots()\n",
    " \n",
    "# Extract the data we need\n",
    "us_gdp = data_gdp[data_gdp.countrycode == \"USA\"].gdp\n",
    "dates = data[[\"Real Price\"]].resample(\"Y\").last().index\n",
    "us_gdp.index = [dt.datetime.combine(dat, dt.time()) for dat in us_gdp.index]\n",
    "us_gdp = us_gdp[us_gdp.index >= dates.min()]\n",
    "us_gdp = us_gdp / us_gdp.iloc[0]\n",
    "real_tr = list(data['Price Return'].resample(\"Y\").last().values)\n",
    "real_pr = list(data[\"Total Return\"].resample(\"Y\").last().values)\n",
    "cpi = list(data[\"CPI\"].resample(\"Y\").last().values)\n",
    "\n",
    "#gdp_growth = data['Real GDP Growth']\n",
    "\n",
    "# Plot the data on a logarithmic scale\n",
    "\n",
    "f_real_tr= interpolate.interp1d(dates.year, real_tr, 'cubic')\n",
    "f_real_pr = interpolate.interp1d(dates.year, real_pr, 'cubic')\n",
    "\n",
    "real_tr_interpol = f_real_tr(dates.year)\n",
    "real_pr_interpol = f_real_pr(dates.year)\n",
    "\n",
    "stats.linregress(dates.year, real_tr)\n",
    "\n",
    "ax.semilogy(dates, real_pr_interpol)\n",
    "ax.semilogy(dates, real_tr_interpol)\n",
    "ax.semilogy(us_gdp.index, us_gdp)\n",
    "#ax.semilogy(dates, cpi)\n",
    "\n",
    "#ax.semilogy(years, data[])\n",
    "\n",
    "size = plt.rcParams['font.size']\n",
    "highlight_textprops =[{\"fontsize\": size + 4},\n",
    "                      {\"fontsize\": size}]\n",
    "\n",
    "HighlightText(x=0.5, y=0.98, ha='center', \n",
    "              s='<Long Term Equity Returns>\\n<Equity vs GDP Growth and Inflation>',\n",
    "              highlight_textprops=highlight_textprops,\n",
    "              annotationbbox_kw={'boxcoords': fig.transFigure}, textalign=\"center\")\n",
    "\n",
    "# Customize the chart\n",
    "ax.set_xlabel('Years')\n",
    "ax.set_ylabel(f'Value, basis 1 in {(data.index.min().strftime(\"%d.%m.%Y\"))}')\n",
    "#ax.set_title('Long Term Equity Returns')\n",
    "fig.legend(labels = [\"US Equity: Price (Real)\", \"US Equity: Price & Divs (Real)\", \"US GDP (Real)\"], loc=\"lower left\", ncol=2, bbox_to_anchor=(0.05, -0.075, 0.5, 0.5))\n",
    "ax.xaxis.set_major_locator(mdates.YearLocator(30))\n",
    "ax.xaxis.set_major_formatter(\n",
    "    mdates.ConciseDateFormatter(ax.xaxis.get_major_locator()))\n",
    "\n",
    "# Show the chart\n",
    "plt.show()\n",
    "plt.close()\n",
    "#fig.savefig(\"shiller-returns.png\")  "
   ]
  },
  {
   "cell_type": "markdown",
   "metadata": {},
   "source": [
    "::: {.content-visible when-profile=\"website\"}\n",
    "The resulting chart demonstrates the power of compounded returns and the equity risk premium that has rewarded long-term shareholders. By using Python libraries like requests, pandas, and Matplotlib, we can easily download, process, and visualize financial data to better understand market trends and investment strategies.\n",
    ":::"
   ]
  },
  {
   "cell_type": "markdown",
   "metadata": {},
   "source": [
    "::: {.content-visible when-profile=\"presentation\"}\n",
    "\n",
    "::: {.notes}\n",
    "The resulting chart demonstrates the power of compounded returns and the equity risk premium that has rewarded long-term shareholders. By using Python libraries like requests, pandas, and Matplotlib, we can easily download, process, and visualize financial data to better understand market trends and investment strategies.\n",
    ":::\n",
    "\n",
    ":::"
   ]
  }
 ],
 "metadata": {
  "kernelspec": {
   "display_name": "portfolio-geek",
   "language": "python",
   "name": "python3"
  },
  "language_info": {
   "name": "python",
   "version": "3.9.10"
  },
  "nbformat": 4,
  "nbformat_minor": 0
 },
 "nbformat": 4,
 "nbformat_minor": 2
}
