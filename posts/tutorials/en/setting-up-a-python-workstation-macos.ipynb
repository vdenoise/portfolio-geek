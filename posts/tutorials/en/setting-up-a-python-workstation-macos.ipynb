{
 "cells": [
  {
   "cell_type": "raw",
   "metadata": {},
   "source": [
    "---\n",
    "title: \"1-a Setting up a Python Development Workstation (MacOs)\"\n",
    "categories: [101, en, setup, python, bash, macos, matplotlib]\n",
    "date: \"02/20/2024\"\n",
    "description: \"In this article we set up our MacOs Workstation and install all the relevant tools to be efficien in python coding.\"\n",
    "image: \"pictures/high-tech-programming-office-with-workstations.png\"\n",
    "---"
   ]
  },
  {
   "attachments": {},
   "cell_type": "markdown",
   "metadata": {},
   "source": [
    "![](/pictures/high-tech-programming-office-with-workstations.png)"
   ]
  },
  {
   "attachments": {},
   "cell_type": "markdown",
   "metadata": {},
   "source": [
    "## Introduction\n",
    "\n",
    "Hello there, finance wizards and coding enthusiasts! Ready to enter the world of Python, Visual Studio, and financial analysis? Let's embark on this journey together. By the end of this guide, you'll have your finance lab primed for dissecting market trends, optimising portfolios, and much more. Buckle up, let's set sail!\n",
    "\n",
    "## 1. Setting Up Visual Studio and Miniconda\n",
    "\n",
    "Your coding adventure begins by setting up the primary tools of the trade: Visual Studio Code (VS Code) and Miniconda. VS Code is a robust and versatile code editor, while Miniconda, a mini version of Anaconda, allows us to create isolated Python environments and manage packages.\n",
    "\n",
    "* Download and install Visual Studio Code from the [official website](https://code.visualstudio.com/). Follow the prompts to complete the installation process.\n",
    "\n",
    "* Similarly, download and install Miniconda from the [official website](https://docs.conda.io/en/latest/miniconda.html). During installation, ensure that you select the option to \"Add Miniconda to my PATH environment variable\". This allows you to use `conda` commands directly in the VS Code terminal.\n",
    "\n",
    "## 2. Setting Up a Python Virtual Environment\n",
    "\n",
    "With our tools installed, let's now create a virtual environment to house our finance lab. We'll use conda to create a new environment named `portfolio-geek` using Python 3.10.\n",
    "\n",
    "Open `VS Code`, then open a terminal and type the following command:\n",
    "\n",
    "```bash\n",
    "conda create -n portfolio-geek python=3.10\n",
    "```\n",
    "\n",
    "Activate the `portfolio-geek` environment by typing:\n",
    "\n",
    "```bash\n",
    "conda activate portfolio-geek\n",
    "```\n",
    "\n",
    "Inside `portfolio-geek`, we install several vital Python libraries for our financial analysis journey:\n",
    "\n",
    "* **pandas**: A flexible and powerful data manipulation library, essential for handling and processing financial data.\n",
    "\n",
    "* **matplotlib and seaborn**: Two formidable libraries for data visualisation, because finance isn't just about numbers—it's about insightful charts too!\n",
    "\n",
    "* **yfinance**: An effective library for fetching historical stock data from Yahoo Finance. \n",
    "\n",
    "* **pyportfolioopt**: An advanced library designed to optimise portfolios, calculate risk and returns, and much more.\n",
    "\n",
    "Install these libraries using the following command:\n",
    "\n",
    "```bash\n",
    "conda install pandas matplotlib seaborn yfinance pyportfolioopt\n",
    "```\n",
    "\n",
    "## 3. Installing Key Visual Studio Extensions\n",
    "\n",
    "VS Code shines with its extensions. Here are a few that will make your life easier:\n",
    "\n",
    "* **Python**: Gives you a host of Python-specific features like linting, debugging, code formatting, and more.\n",
    "\n",
    "* **Prettier**: A code formatter that supports many languages, including Python. Keeps your code clean and professional.\n",
    "\n",
    "* **Code Spell Checker**: Like a proof-reader, it catches common spelling mistakes in your code.\n",
    "\n",
    "You can install these extensions by searching for them in the VS Code Extensions view (`Ctrl + Shift + X`) and clicking on \"Install\".\n",
    "\n",
    "## 4. Launching a Jupyter Notebook Inside Visual Studio\n",
    "\n",
    "With our `portfolio-geek` environment and VS Code set up, it's time to dive into some coding. We'll be using a Jupyter Notebook, a powerful tool allowing you to interweave code and text into a single document.\n",
    "\n",
    "Create a new file with a `.ipynb` extension. Upon creation, VS Code will prompt you to select a Python interpreter—choose the one corresponding to our `portfolio-geek` environment.\n",
    "\n",
    "In the following steps, we'll demonstrate some powerful features of the `pyportfolioopt` library. In this exercise, we'll fetch the historical data of SPY, QQQ, and AGG ETFs using `yfinance`, compute risk and\n",
    "\n",
    " return metrics, plot the 10-year cumulative return, and finally, plot the efficient frontier.\n",
    "\n",
    "*Due to the length and complexity of the code, it has been omitted from this article. For a complete walkthrough, please refer to the official pyportfolioopt [documentation](https://pyportfolioopt.readthedocs.io/en/latest/).*\n",
    "\n"
   ]
  }
 ],
 "metadata": {
  "kernelspec": {
   "display_name": "portfolio-geek",
   "language": "python",
   "name": "python3"
  },
  "language_info": {
   "codemirror_mode": {
    "name": "ipython",
    "version": 3
   },
   "file_extension": ".py",
   "mimetype": "text/x-python",
   "name": "python",
   "nbconvert_exporter": "python",
   "pygments_lexer": "ipython3",
   "version": "3.9.0"
  }
 },
 "nbformat": 4,
 "nbformat_minor": 2
}
