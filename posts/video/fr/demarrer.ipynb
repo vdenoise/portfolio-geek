{
 "cells": [
  {
   "cell_type": "raw",
   "metadata": {},
   "source": [
    "---\n",
    "title: Démarrer\n",
    "badges: True\n",
    "comments: false\n",
    "author: Vincent D.\n",
    "categories: [tutoriel, en]\n",
    "tags: [tutorial, markowitz, optimisation, portfolio, construction]\n",
    "series: Finance and Markets with Python and Jupyter a step-by-step tutorial\n",
    "--- "
   ]
  },
  {
   "attachments": {},
   "cell_type": "markdown",
   "metadata": {},
   "source": [
    "# Pret ou pas pret, Il faut bien démarrer quelque part!\n",
    "\n",
    "Bonjour a tous, et merci de nous accompagner pour ce premier épisode!\n",
    "Dans cette vidéo nous allons faire un tour d'horizon sur l'analyse de données financières.\n",
    "Ce sera uniquement un tour d'horizon, et aucune connaissance préalable n'est requise pour suivre cette vidéo.\n",
    "\n",
    "L'objectif est clair et simple: savoir suivre la performance de différents actifs financiers. Pour ceci, nous allons nous intéresser a la performance de certains indices, dont nous allons approximer la performance par celle d'ETFs, qui sont progressivement devenus des outils indispensable pour de nombreux investisseurs. Petit rappel nécessaire, je ne suis pas Conseiller Financier, je ne donne aucune recommendation ni conseil, mon seul objectif ici est d'utiliser des informations pour analyser les marchés.  \n",
    "\n",
    "Revenons \n",
    "dans lequel nous allons jeter les bases de l'anal\n"
   ]
  }
 ],
 "metadata": {
  "language_info": {
   "name": "python"
  },
  "orig_nbformat": 4
 },
 "nbformat": 4,
 "nbformat_minor": 2
}
