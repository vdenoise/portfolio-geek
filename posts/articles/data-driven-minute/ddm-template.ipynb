{
 "cells": [
  {
   "cell_type": "raw",
   "metadata": {
    "vscode": {
     "languageId": "raw"
    }
   },
   "source": [
    "---\n",
    "format: \n",
    "    revealjs:\n",
    "        height: 1080\n",
    "        width: 1920\n",
    "        background-image: \"../../pictures/green-screen-whiteboard-left.png\"\n",
    "        background-size: cover\n",
    "        background-repeat: no-repeat\n",
    "        theme: [default, pres.scss]\n",
    "draft: true\n",
    "---"
   ]
  },
  {
   "cell_type": "markdown",
   "metadata": {},
   "source": [
    "##\n",
    "\n",
    "::: {.notes}\n",
    "Hey there! Imagine you're driving to work every day. Some days, you zip through traffic without a hitch. Other days, you get stuck in jams or hit every red light. Now, think of the ups and downs of your drive as return volatility in the stock market.\n",
    ":::\n",
    "\n",
    ":::{.absolute top=75 left=200 width=350 height=100}\n",
    "$$\n",
    "\\sigma = \\sqrt{\\frac{\\sum_{i=1}^{n}(R_i - \\mu)^2}{n-1}}\n",
    "$$\n",
    ":::\n",
    "\n",
    "\n",
    ":::{.absolute top=250 left=100 width=600 height=400}0\n",
    "  \n",
    ":::{.incremental .smaller}\n",
    "1. Calculate the average return ($\\mu$).\n",
    "2. Subtract the average return from each individual return $R_{i} - \\mu$.\n",
    "3. Square these differences.\n",
    "4. Sum up all the squared differences.\n",
    "5. Divide by the number of returns minus one ($n-1$).\n",
    "6. Take the square root of the result. \n",
    " \n",
    ":::\n",
    ":::\n",
    "\n",
    "\n",
    "##\n"
   ]
  },
  {
   "cell_type": "code",
   "execution_count": null,
   "metadata": {},
   "outputs": [],
   "source": [
    "   "
   ]
  },
  {
   "cell_type": "code",
   "execution_count": null,
   "metadata": {},
   "outputs": [],
   "source": [
    "import yfinance as yf\n",
    "import pandas as pd\n",
    "import numpy as np\n",
    "import matplotlib.pyplot as plt\n",
    "\n",
    "# Fetching the SPY data\n",
    "spy = yf.Ticker(\"SPY\")\n",
    "data = spy.history(period=\"10y\")\n",
    "\n",
    "# Calculating daily returns\n",
    "data['Daily Return'] = data['Close'].pct_change()\n",
    "\n",
    "# Calculating compounded returns normalized to 100 at inception\n",
    "data['Compounded Return'] = (1 + data['Daily Return']).cumprod() * 100\n",
    "\n",
    "# Calculating 21-day rolling window annualized volatility\n",
    "data['Rolling Volatility'] = data['Daily Return'].rolling(window=21).std() * np.sqrt(252)\n"
   ]
  },
  {
   "cell_type": "code",
   "execution_count": null,
   "metadata": {},
   "outputs": [],
   "source": [
    "\n",
    "plt.style.use('ddm-chart.mplstyle')\n",
    "# Plotting the compounded returns and rolling volatility\n",
    "fig, ax1 = plt.subplots(figsize=(10, 6))\n",
    "\n",
    "# Plotting Compounded Returns\n",
    "ax1.set_xlabel('Date')\n",
    "ax1.set_ylabel('Compounded Return', color='tab:blue')\n",
    "ax1.plot(data.index, data['Compounded Return'], color='tab:blue', label='Compounded Return')\n",
    "ax1.tick_params(axis='y', labelcolor='tab:blue')\n",
    "\n",
    "# Plotting Rolling Volatility\n",
    "ax2 = ax1.twinx()\n",
    "ax2.set_ylabel('Rolling Volatility (Annualized)', color='tab:orange')\n",
    "ax2.plot(data.index, data['Rolling Volatility'], color='tab:orange', alpha=0.6, label='21-Day Rolling Volatility')\n",
    "ax2.tick_params(axis='y', labelcolor='tab:orange')\n",
    "\n",
    "fig.tight_layout()\n",
    "plt.title('SPY Compounded Returns and 21-Day Rolling Volatility')\n",
    "fig.legend(loc=\"upper left\", bbox_to_anchor=(0,1), bbox_transform=ax1.transAxes)\n",
    "plt.grid()\n",
    "plt.show()\n"
   ]
  },
  {
   "cell_type": "markdown",
   "metadata": {},
   "source": [
    "## \n",
    "\n",
    ":::{.absolute top=\"10\" left=\"10\" width=\"900\" height=\"900\"}"
   ]
  },
  {
   "cell_type": "code",
   "execution_count": null,
   "metadata": {},
   "outputs": [],
   "source": [
    "mpl.rcParams.update(mpl.rcParamsDefault)\n",
    "plt.style.use('ddm-chart.mplstyle')\n",
    "fig, ax = fig = plt.subplots()\n",
    "ax.plot(rolling_volatility, linewidth=2)"
   ]
  },
  {
   "cell_type": "code",
   "execution_count": null,
   "metadata": {},
   "outputs": [],
   "source": [
    "\n",
    "\n",
    "# Customizing the plot\n",
    "plt.title('21-Day Rolling Volatility of AAPL in 2023', fontsize=14)\n",
    "plt.xlabel('Date')\n",
    "plt.ylabel('Volatility')\n",
    "\n",
    "# Show plot\n",
    "plt.show()"
   ]
  },
  {
   "cell_type": "markdown",
   "metadata": {},
   "source": [
    ":::\n"
   ]
  }
 ],
 "metadata": {
  "kernelspec": {
   "display_name": "portfolio-geek",
   "language": "python",
   "name": "python3"
  },
  "language_info": {
   "codemirror_mode": {
    "name": "ipython",
    "version": 3
   },
   "file_extension": ".py",
   "mimetype": "text/x-python",
   "name": "python",
   "nbconvert_exporter": "python",
   "pygments_lexer": "ipython3",
   "version": "3.9.undefined"
  }
 },
 "nbformat": 4,
 "nbformat_minor": 2
}
