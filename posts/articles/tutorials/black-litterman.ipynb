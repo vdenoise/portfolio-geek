{
 "cells": [
  {
   "cell_type": "raw",
   "metadata": {},
   "source": [
    "---\n",
    "title: \"Implementing the Black-Litterman Approach with PyPortfolioOpt\"\n",
    "date: \"05/01/2023\"\n",
    "draft: true\n",
    "execute: \n",
    "  enabled: false\n",
    "---"
   ]
  },
  {
   "attachments": {},
   "cell_type": "markdown",
   "metadata": {},
   "source": [
    "# Implementing the Black-Litterman Approach with PyPortfolioOpt on US, Europe, and Japan Equity ETFs\n",
    "\n",
    "In this article, we will demonstrate how to use the PyPortfolioOpt library to implement the Black-Litterman approach on a portfolio consisting of 3 ETFs: US Equity, Europe Equity, and Japan Equity. We will estimate future risks using their historical volatility, and determine their equilibrium weights based on the respective share of their country to the world GDP. Long-term return views will be based on the 5-year GDP growth as provided by the IMF through their Python API.\n",
    "\n",
    "We will fetch historical data using the yfinance library. At the end of the article, we will present the following results:\n",
    "\n",
    "- A pie chart showing the weights\n",
    "- A Matplotlib chart illustrating the performance of a portfolio using these weights over the last 10 years, with annual rebalancing, using the Zipline library\n",
    "\n",
    "We will use the ggplot style sheet for all Matplotlib charts.\n",
    "\n",
    "\n",
    "## Setting Up\n",
    "\n",
    "First, let's import the necessary libraries and set up the ggplot style.\n"
   ]
  },
  {
   "cell_type": "code",
   "execution_count": 4,
   "metadata": {},
   "outputs": [],
   "source": [
    "import yfinance as yf\n",
    "import pandas as pd\n",
    "import numpy as np\n",
    "import matplotlib.pyplot as plt\n",
    "import pypfopt\n",
    "from pypfopt import black_litterman, risk_models, plotting, EfficientFrontier\n",
    "from pypfopt.black_litterman import BlackLittermanModel\n",
    "from pypfopt.expected_returns import mean_historical_return\n",
    "\n",
    "plt.style.use('ggplot')"
   ]
  },
  {
   "attachments": {},
   "cell_type": "markdown",
   "metadata": {},
   "source": [
    "## Obtaining Historical Data\n",
    "\n",
    "We will fetch the historical data for the 3 ETFs using the yfinance library.\n"
   ]
  },
  {
   "cell_type": "code",
   "execution_count": 7,
   "metadata": {},
   "outputs": [
    {
     "name": "stdout",
     "output_type": "stream",
     "text": [
      "[*********************100%***********************]  3 of 3 completed\n"
     ]
    }
   ],
   "source": [
    "tickers = ['SPY', 'IEUR', 'EWJ']  # US Equity, Europe Equity, Japan Equity\n",
    "start_date = '2011-01-01'\n",
    "end_date = '2021-01-01'\n",
    "\n",
    "prices = yf.download(tickers, start=start_date, end=end_date)['Adj Close']"
   ]
  },
  {
   "attachments": {},
   "cell_type": "markdown",
   "metadata": {},
   "source": [
    "## Calculating Historical Volatility\n",
    "\n",
    "We will use the historical volatility as the future risk estimate."
   ]
  },
  {
   "cell_type": "code",
   "execution_count": null,
   "metadata": {},
   "outputs": [],
   "source": [
    "volatility = risk_models.sample_cov(prices)"
   ]
  },
  {
   "attachments": {},
   "cell_type": "markdown",
   "metadata": {},
   "source": [
    "## Long-term Return Views\n",
    "\n",
    "We will obtain the 5-year GDP growth data from the IMF Python API."
   ]
  },
  {
   "cell_type": "code",
   "execution_count": 11,
   "metadata": {},
   "outputs": [],
   "source": [
    "\n",
    "us_share = 0.60\n",
    "europe_share = 0.25\n",
    "japan_share = 0.15\n"
   ]
  },
  {
   "attachments": {},
   "cell_type": "markdown",
   "metadata": {},
   "source": [
    "## Determining Equilibrium Weights\n",
    "\n",
    "We will determine the equilibrium weights based on the respective share of their country to the world GDP."
   ]
  },
  {
   "cell_type": "code",
   "execution_count": 12,
   "metadata": {},
   "outputs": [],
   "source": [
    "weights_eq = np.array([us_share, europe_share, japan_share])"
   ]
  },
  {
   "attachments": {},
   "cell_type": "markdown",
   "metadata": {},
   "source": [
    "# Create the views matrix"
   ]
  },
  {
   "cell_type": "code",
   "execution_count": 19,
   "metadata": {},
   "outputs": [],
   "source": [
    "# Assign the fetched data to the following variables\n",
    "us_gdp_growth = 0.023\n",
    "europe_gdp_growth = 0.018\n",
    "japan_gdp_growth = 0.011\n",
    "\n",
    "views =  pd.Series([us_gdp_growth, europe_gdp_growth, japan_gdp_growth])"
   ]
  },
  {
   "attachments": {},
   "cell_type": "markdown",
   "metadata": {},
   "source": [
    "## Implementing the Black-Litterman Model"
   ]
  },
  {
   "cell_type": "code",
   "execution_count": 20,
   "metadata": {},
   "outputs": [
    {
     "ename": "ValueError",
     "evalue": "Providing a view on an asset not in the universe",
     "output_type": "error",
     "traceback": [
      "\u001b[0;31m---------------------------------------------------------------------------\u001b[0m",
      "\u001b[0;31mValueError\u001b[0m                                Traceback (most recent call last)",
      "File \u001b[0;32m/usr/local/Caskroom/miniconda/base/envs/portfolio-geek/lib/python3.9/site-packages/pypfopt/black_litterman.py:230\u001b[0m, in \u001b[0;36mBlackLittermanModel._parse_views\u001b[0;34m(self, absolute_views)\u001b[0m\n\u001b[1;32m    229\u001b[0m     Q[i] \u001b[39m=\u001b[39m views[view_ticker]\n\u001b[0;32m--> 230\u001b[0m     P[i, \u001b[39mlist\u001b[39;49m(\u001b[39mself\u001b[39;49m\u001b[39m.\u001b[39;49mtickers)\u001b[39m.\u001b[39;49mindex(view_ticker)] \u001b[39m=\u001b[39m \u001b[39m1\u001b[39m\n\u001b[1;32m    231\u001b[0m \u001b[39mexcept\u001b[39;00m \u001b[39mValueError\u001b[39;00m:\n\u001b[1;32m    232\u001b[0m     \u001b[39m#  Could make this smarter by just skipping\u001b[39;00m\n",
      "\u001b[0;31mValueError\u001b[0m: 0 is not in list",
      "\nDuring handling of the above exception, another exception occurred:\n",
      "\u001b[0;31mValueError\u001b[0m                                Traceback (most recent call last)",
      "\u001b[1;32m/Users/vincent/dev/portfolio-geek/posts/portfolio-construction/black-litterman.ipynb Cell 14\u001b[0m in \u001b[0;36m<cell line: 1>\u001b[0;34m()\u001b[0m\n\u001b[0;32m----> <a href='vscode-notebook-cell:/Users/vincent/dev/portfolio-geek/posts/portfolio-construction/black-litterman.ipynb#X21sZmlsZQ%3D%3D?line=0'>1</a>\u001b[0m bl \u001b[39m=\u001b[39m BlackLittermanModel(volatility, weights_eq, absolute_views\u001b[39m=\u001b[39;49mviews)\n\u001b[1;32m      <a href='vscode-notebook-cell:/Users/vincent/dev/portfolio-geek/posts/portfolio-construction/black-litterman.ipynb#X21sZmlsZQ%3D%3D?line=2'>3</a>\u001b[0m \u001b[39m# Calculate the posterior estimate of returns\u001b[39;00m\n\u001b[1;32m      <a href='vscode-notebook-cell:/Users/vincent/dev/portfolio-geek/posts/portfolio-construction/black-litterman.ipynb#X21sZmlsZQ%3D%3D?line=3'>4</a>\u001b[0m posterior_estimates \u001b[39m=\u001b[39m bl\u001b[39m.\u001b[39mbl_returns()\n",
      "File \u001b[0;32m/usr/local/Caskroom/miniconda/base/envs/portfolio-geek/lib/python3.9/site-packages/pypfopt/black_litterman.py:189\u001b[0m, in \u001b[0;36mBlackLittermanModel.__init__\u001b[0;34m(self, cov_matrix, pi, absolute_views, Q, P, omega, view_confidences, tau, risk_aversion, **kwargs)\u001b[0m\n\u001b[1;32m    187\u001b[0m \u001b[39m#  Sanitise inputs\u001b[39;00m\n\u001b[1;32m    188\u001b[0m \u001b[39mif\u001b[39;00m absolute_views \u001b[39mis\u001b[39;00m \u001b[39mnot\u001b[39;00m \u001b[39mNone\u001b[39;00m:\n\u001b[0;32m--> 189\u001b[0m     \u001b[39mself\u001b[39m\u001b[39m.\u001b[39mQ, \u001b[39mself\u001b[39m\u001b[39m.\u001b[39mP \u001b[39m=\u001b[39m \u001b[39mself\u001b[39;49m\u001b[39m.\u001b[39;49m_parse_views(absolute_views)\n\u001b[1;32m    190\u001b[0m \u001b[39melse\u001b[39;00m:\n\u001b[1;32m    191\u001b[0m     \u001b[39mself\u001b[39m\u001b[39m.\u001b[39m_set_Q_P(Q, P)\n",
      "File \u001b[0;32m/usr/local/Caskroom/miniconda/base/envs/portfolio-geek/lib/python3.9/site-packages/pypfopt/black_litterman.py:233\u001b[0m, in \u001b[0;36mBlackLittermanModel._parse_views\u001b[0;34m(self, absolute_views)\u001b[0m\n\u001b[1;32m    230\u001b[0m         P[i, \u001b[39mlist\u001b[39m(\u001b[39mself\u001b[39m\u001b[39m.\u001b[39mtickers)\u001b[39m.\u001b[39mindex(view_ticker)] \u001b[39m=\u001b[39m \u001b[39m1\u001b[39m\n\u001b[1;32m    231\u001b[0m     \u001b[39mexcept\u001b[39;00m \u001b[39mValueError\u001b[39;00m:\n\u001b[1;32m    232\u001b[0m         \u001b[39m#  Could make this smarter by just skipping\u001b[39;00m\n\u001b[0;32m--> 233\u001b[0m         \u001b[39mraise\u001b[39;00m \u001b[39mValueError\u001b[39;00m(\u001b[39m\"\u001b[39m\u001b[39mProviding a view on an asset not in the universe\u001b[39m\u001b[39m\"\u001b[39m)\n\u001b[1;32m    234\u001b[0m \u001b[39mreturn\u001b[39;00m Q, P\n",
      "\u001b[0;31mValueError\u001b[0m: Providing a view on an asset not in the universe"
     ]
    }
   ],
   "source": [
    "bl = BlackLittermanModel(volatility, weights_eq, absolute_views=views)\n",
    "\n",
    "# Calculate the posterior estimate of returns\n",
    "posterior_estimates = bl.bl_returns()"
   ]
  },
  {
   "attachments": {},
   "cell_type": "markdown",
   "metadata": {},
   "source": [
    "\n",
    "\n",
    "```\n",
    "\n",
    "\n",
    "\n",
    "```python\n",
    "\n",
    "```\n",
    "\n",
    "## Optimizing the Portfolio\n",
    "\n",
    "```python\n",
    "ef = EfficientFrontier(posterior_estimates, volatility)\n",
    "weights_optimized = ef.max_sharpe()\n",
    "```\n",
    "\n",
    "## Visualizing the Results\n",
    "\n",
    "### Pie Chart of Weights\n",
    "\n",
    "```python\n",
    "plotting.plot_pie(weights_optimized)\n",
    "plt.show()\n",
    "```\n",
    "\n",
    "### Portfolio Performance over the Last 10 Years\n",
    "\n",
    "We will use the Zipline library to backtest our strategy with annual reb"
   ]
  }
 ],
 "metadata": {
  "kernelspec": {
   "display_name": "portfolio-geek",
   "language": "python",
   "name": "python3"
  },
  "language_info": {
   "codemirror_mode": {
    "name": "ipython",
    "version": 3
   },
   "file_extension": ".py",
   "mimetype": "text/x-python",
   "name": "python",
   "nbconvert_exporter": "python",
   "pygments_lexer": "ipython3",
   "version": "3.9.10"
  },
  "orig_nbformat": 4
 },
 "nbformat": 4,
 "nbformat_minor": 2
}
