{
 "cells": [
  {
   "cell_type": "raw",
   "metadata": {
    "vscode": {
     "languageId": "raw"
    }
   },
   "source": [
    "---\n",
    "title: \"4 - First Macro-Economic data analysis: using the Eurostat API\"\n",
    "date: \"01/15/2024\"\n",
    "description: \"In this article, we leverage our first API request, using the data provided freely by the Eurostat organisation.\"\n",
    "categories: [en, 101, data, api, data, python, macro, economics]\n",
    "draft: true\n",
    "---\n"
   ]
  },
  {
   "attachments": {},
   "cell_type": "markdown",
   "metadata": {},
   "source": [
    "![](/pictures/api-connection-check.png)\n",
    "## Connect to Eurostat API with Python using their REST API\n",
    "\n",
    "Eurostat, the statistical office of the European Union, provides access to a wealth of data on various aspects of the European economy, environment, and society. One way to access this data is through their REST API, which can be easily connected to and queried using Python.\n",
    "\n",
    "In this article, we will walk you through the steps needed to connect to the Eurostat API using Python and build a function to show the connection status to the API. By the end, you'll be able to retrieve data from Eurostat in a structured and efficient manner.\n",
    "\n",
    "### Prerequisites\n",
    "\n",
    "Before we begin, make sure you have Python installed on your system. You can check whether you have Python installed and which version you're using by running the following command in your terminal:\n",
    "\n",
    "```bash\n",
    "python --version\n",
    "```\n",
    "\n",
    "If you don't have Python installed, you can download it from the official [Python website](https://www.python.org/downloads/).\n",
    "\n",
    "Next, you will need to install the `requests` library, which allows you to make HTTP requests in Python. To do this, open your terminal and run:\n",
    "\n",
    "```bash\n",
    "pip install requests\n",
    "```\n",
    "\n",
    "### Connecting to the Eurostat API\n",
    "\n",
    "To connect to the Eurostat API, you need to send HTTP requests to their API endpoints. The base URL for the Eurostat API is:\n",
    "\n",
    "``` bash\n",
    "https://ec.europa.eu/eurostat/api/dissemination/sdmx/2.1/\n",
    "```\n",
    "\n",
    "You can append the relevant endpoint to this base URL to access specific datasets or services.\n",
    "\n",
    "For example, to access the dataset on GDP per capita, you would send a request to:\n",
    "\n",
    "``` bash\n",
    "https://ec.europa.eu/eurostat/api/dissemination/sdmx/2.1/data/nama_10_pc?format=sdmx-compact-2.1\n",
    "```\n",
    "\n",
    "Here's a Python function that sends a request to the Eurostat API and checks the connection status:"
   ]
  },
  {
   "cell_type": "code",
   "execution_count": 1,
   "metadata": {},
   "outputs": [
    {
     "name": "stdout",
     "output_type": "stream",
     "text": [
      "Connection Successful! (Status Code: 200)\n"
     ]
    }
   ],
   "source": [
    "import requests\n",
    "\n",
    "def check_connection_status(endpoint):\n",
    "    response = requests.get(endpoint)\n",
    "    status_code = response.status_code\n",
    "    \n",
    "    if status_code == 200:\n",
    "        print(\"Connection Successful! (Status Code: 200)\")\n",
    "    elif status_code == 404:\n",
    "        print(\"Error: Dataset not found (Status Code: 404)\")\n",
    "    else:\n",
    "        print(f\"Error: Connection failed (Status Code: {status_code})\")\n",
    "\n",
    "# Test the function with the base URL\n",
    "api_base_url = \"https://ec.europa.eu/eurostat/api/dissemination/sdmx/2.1/sdmx-rest.wadl\"\n",
    "check_connection_status(api_base_url)"
   ]
  },
  {
   "attachments": {},
   "cell_type": "markdown",
   "metadata": {},
   "source": [
    "This function sends an HTTP GET request to the specified `api_url` and checks the response's status code. If the status code is 200, the connection is successful. If the status code is anything other than 200, the connection has failed, and the function raises an exception with the corresponding error message.\n",
    "\n",
    "To use this function, replace `api_url` with the desired Eurostat API endpoint.\n",
    "\n",
    "## Conclusion\n",
    "\n",
    "In this article, we demonstrated how to connect to the Eurostat API using Python and their REST API. We also showed you how to create a simple function to check the connection status to the API.\n",
    "\n",
    "With these tools in hand, you can now access a wide variety of European statistical data and use it in your data analysis or visualization projects. Happy coding!"
   ]
  },
  {
   "cell_type": "markdown",
   "metadata": {},
   "source": []
  }
 ],
 "metadata": {
  "kernelspec": {
   "display_name": "portfolio-geek",
   "language": "python",
   "name": "python3"
  },
  "language_info": {
   "codemirror_mode": {
    "name": "ipython",
    "version": 3
   },
   "file_extension": ".py",
   "mimetype": "text/x-python",
   "name": "python",
   "nbconvert_exporter": "python",
   "pygments_lexer": "ipython3",
   "version": "3.10.8"
  }
 },
 "nbformat": 4,
 "nbformat_minor": 2
}
